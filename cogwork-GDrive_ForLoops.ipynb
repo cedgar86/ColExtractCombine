{
  "nbformat": 4,
  "nbformat_minor": 0,
  "metadata": {
    "colab": {
      "name": "Untitled0.ipynb",
      "provenance": [],
      "authorship_tag": "ABX9TyNk7G9z2mBqmSryhzHB7l7S",
      "include_colab_link": true
    },
    "kernelspec": {
      "name": "python3",
      "display_name": "Python 3"
    },
    "language_info": {
      "name": "python"
    }
  },
  "cells": [
    {
      "cell_type": "markdown",
      "metadata": {
        "id": "view-in-github",
        "colab_type": "text"
      },
      "source": [
        "<a href=\"https://colab.research.google.com/github/cedgar86/Python-data-wrangling-scripts/blob/main/cogwork-GDrive_ForLoops.ipynb\" target=\"_parent\"><img src=\"https://colab.research.google.com/assets/colab-badge.svg\" alt=\"Open In Colab\"/></a>"
      ]
    },
    {
      "cell_type": "markdown",
      "metadata": {
        "id": "5MXlgtqyztmf"
      },
      "source": [
        "**Nested for loops (for loops for my for loops)**\n",
        "\n",
        "\n",
        "\n",
        "---\n",
        "\n"
      ]
    },
    {
      "cell_type": "markdown",
      "metadata": {
        "id": "hrolydK70frg"
      },
      "source": [
        "My job involves running a lot of quantaitive experiments, consisting of repetitive trials that produce lots of separate but structurally identical data in separate files. For this reason, I use for loops a lot to extract and collate data before running various analyses.\n",
        "\n",
        "I am now going to write a script outlining a typcial way of doing this using data stored in Google drive."
      ]
    },
    {
      "cell_type": "markdown",
      "metadata": {
        "id": "sqfShBQe1S07"
      },
      "source": [
        "First up, we need to install a libraries that enable to access my Google Drive, read data, and authenticate the user (me)."
      ]
    },
    {
      "cell_type": "code",
      "metadata": {
        "id": "ULN7-Kmhzqgq"
      },
      "source": [
        "!pip install -U -q PyDrive\n",
        "\n",
        "import zipfile\n",
        "import csv\n",
        "from itertools import islice\n",
        "\n",
        "from pydrive.auth import GoogleAuth\n",
        "from pydrive.drive import GoogleDrive\n",
        "from google.colab import auth\n",
        "from oauth2client.client import GoogleCredentials"
      ],
      "execution_count": 1,
      "outputs": []
    },
    {
      "cell_type": "markdown",
      "metadata": {
        "id": "RDYf1mRs19mJ"
      },
      "source": [
        "Now to authenticate myself. Running this code, I will be explicitly asked for permission. I need to follow the link and copy & paste the verification code in order to proceed."
      ]
    },
    {
      "cell_type": "code",
      "metadata": {
        "id": "FNeDF36T2AvE"
      },
      "source": [
        "\n",
        "# Authenticate and create the PyDrive client.\n",
        "auth.authenticate_user()\n",
        "gauth = GoogleAuth()\n",
        "gauth.credentials = GoogleCredentials.get_application_default()\n",
        "drive = GoogleDrive(gauth)"
      ],
      "execution_count": 4,
      "outputs": []
    }
  ]
}